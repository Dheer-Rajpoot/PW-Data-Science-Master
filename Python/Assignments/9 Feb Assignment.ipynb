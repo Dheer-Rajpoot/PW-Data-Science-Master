{
 "cells": [
  {
   "cell_type": "markdown",
   "id": "7019ab37-23cf-48e8-9bd9-49353548b723",
   "metadata": {},
   "source": [
    "# Q1. Create a vehicle class with an init method having instance variables as name_of_vehicle, max_speed and average_of_vehicle."
   ]
  },
  {
   "cell_type": "code",
   "execution_count": 6,
   "id": "f1f4351e-c2c6-41c9-9ed8-43f59a2189de",
   "metadata": {},
   "outputs": [],
   "source": [
    "class vehicle:\n",
    "    def __init__(self, name_of_vehicle, max_speed, average_of_vehicle):    \n",
    "        self.name_of_vehicle=name_of_vehicle\n",
    "        self.max_speed=max_speed\n",
    "        self.average_of_vehicle=average_of_vehicle"
   ]
  },
  {
   "cell_type": "markdown",
   "id": "adfdcae2-d607-4659-8981-e37578caea66",
   "metadata": {},
   "source": [
    "# Q2. Create a child class car from the vehicle class created in Que 1, which will inherit the vehicle class. Create a method named seating_capacity which takes capacity as an argument and returns the name of the vehicle and its seating capacity."
   ]
  },
  {
   "cell_type": "code",
   "execution_count": 7,
   "id": "8098aab3-02e0-44d2-85c9-0330f056bedc",
   "metadata": {},
   "outputs": [],
   "source": [
    "class car(vehicle):\n",
    "    def seating_capacity(self,capacity):\n",
    "        return self.name_of_vehicle,capacity\n",
    "    "
   ]
  },
  {
   "cell_type": "markdown",
   "id": "3195dea3-ea83-4071-a7f3-af6aa5740c12",
   "metadata": {},
   "source": [
    "# Q3. What is multiple inheritance? Write a python code to demonstrate multiple inheritance."
   ]
  },
  {
   "cell_type": "markdown",
   "id": "2aa5a352-3455-4139-99c8-4cb5bce80f68",
   "metadata": {},
   "source": [
    "A3 .Multilevel Inheritance : In multilevel inheritance, features of the base class and the derived class are further inherited into the new derived class. This is similar to a relationship representing a child and a grandfather.\n"
   ]
  },
  {
   "cell_type": "code",
   "execution_count": 11,
   "id": "bee60c9f-90f8-4658-9cb7-d51d63b72e2b",
   "metadata": {},
   "outputs": [
    {
     "name": "stdout",
     "output_type": "stream",
     "text": [
      "Lal mani\n",
      "Grandfather name : Lal mani\n",
      "Father name : Rampal\n",
      "Son name : Prince\n"
     ]
    }
   ],
   "source": [
    "# Python program to demonstrate\n",
    "# multilevel inheritance\n",
    "\n",
    "# Base class\n",
    "\n",
    "\n",
    "class Grandfather:\n",
    "\n",
    "\tdef __init__(self, grandfathername):\n",
    "\t\tself.grandfathername = grandfathername\n",
    "\n",
    "# Intermediate class\n",
    "\n",
    "\n",
    "class Father(Grandfather):\n",
    "\tdef __init__(self, fathername, grandfathername):\n",
    "\t\tself.fathername = fathername\n",
    "\n",
    "\t\t# invoking constructor of Grandfather class\n",
    "\t\tGrandfather.__init__(self, grandfathername)\n",
    "\n",
    "# Derived class\n",
    "\n",
    "\n",
    "class Son(Father):\n",
    "\tdef __init__(self, sonname, fathername, grandfathername):\n",
    "\t\tself.sonname = sonname\n",
    "\n",
    "\t\t# invoking constructor of Father class\n",
    "\t\tFather.__init__(self, fathername, grandfathername)\n",
    "\n",
    "\tdef print_name(self):\n",
    "\t\tprint('Grandfather name :', self.grandfathername)\n",
    "\t\tprint(\"Father name :\", self.fathername)\n",
    "\t\tprint(\"Son name :\", self.sonname)\n",
    "\n",
    "\n",
    "# Driver code\n",
    "s1 = Son('Prince', 'Rampal', 'Lal mani')\n",
    "print(s1.grandfathername)\n",
    "s1.print_name()\n"
   ]
  },
  {
   "cell_type": "markdown",
   "id": "6379179c-20ae-41fb-8b34-54ac5230e25b",
   "metadata": {},
   "source": [
    "# Q4. What are getter and setter in python? Create a class and create a getter and a setter method in this class."
   ]
  },
  {
   "cell_type": "markdown",
   "id": "bd1dcb43-1e6f-4dd0-9d69-f0e1a39f3ce6",
   "metadata": {},
   "source": [
    "In Python, getters and setters are used to retrieve and modify the values of an object's private attributes, respectively. They are used to encapsulate the data and prevent it from being accessed directly from outside the class.\n",
    "\n",
    "Here's an example of a Person class with a private attribute _age, and getter and setter methods for it:"
   ]
  },
  {
   "cell_type": "code",
   "execution_count": 12,
   "id": "352c80a6-78cc-4e6c-84b4-28bb7184bafd",
   "metadata": {},
   "outputs": [],
   "source": [
    "class Person:\n",
    "    def __init__(self, name, age):\n",
    "        self.name = name\n",
    "        self._age = age\n",
    "\n",
    "    def get_age(self):\n",
    "        return self._age\n",
    "\n",
    "    def set_age(self, age):\n",
    "        if age < 0:\n",
    "            raise ValueError(\"Age cannot be negative.\")\n",
    "        else:\n",
    "            self._age = age\n"
   ]
  },
  {
   "cell_type": "markdown",
   "id": "54bc845d-6d95-4efe-aa86-0e9731f69014",
   "metadata": {},
   "source": [
    "In this example, we define a Person class with a constructor that takes a name and an age parameter. We also have a private attribute _age, which is denoted by the underscore before the name. We define a getter method get_age() that returns the value of the _age attribute, and a setter method set_age() that takes an age parameter and sets the value of _age to it after checking if the value is greater than or equal to 0.\n",
    "\n",
    "Here's an example of how to use the Person class:"
   ]
  },
  {
   "cell_type": "code",
   "execution_count": 13,
   "id": "38960894-048d-4e9f-836e-065b095d7a92",
   "metadata": {},
   "outputs": [
    {
     "name": "stdout",
     "output_type": "stream",
     "text": [
      "25\n",
      "30\n"
     ]
    },
    {
     "ename": "ValueError",
     "evalue": "Age cannot be negative.",
     "output_type": "error",
     "traceback": [
      "\u001b[0;31m---------------------------------------------------------------------------\u001b[0m",
      "\u001b[0;31mValueError\u001b[0m                                Traceback (most recent call last)",
      "Cell \u001b[0;32mIn[13], line 5\u001b[0m\n\u001b[1;32m      3\u001b[0m person1\u001b[38;5;241m.\u001b[39mset_age(\u001b[38;5;241m30\u001b[39m)\n\u001b[1;32m      4\u001b[0m \u001b[38;5;28mprint\u001b[39m(person1\u001b[38;5;241m.\u001b[39mget_age())  \u001b[38;5;66;03m# Output: 30\u001b[39;00m\n\u001b[0;32m----> 5\u001b[0m \u001b[43mperson1\u001b[49m\u001b[38;5;241;43m.\u001b[39;49m\u001b[43mset_age\u001b[49m\u001b[43m(\u001b[49m\u001b[38;5;241;43m-\u001b[39;49m\u001b[38;5;241;43m5\u001b[39;49m\u001b[43m)\u001b[49m      \u001b[38;5;66;03m# Raises ValueError: Age cannot be negative.\u001b[39;00m\n",
      "Cell \u001b[0;32mIn[12], line 11\u001b[0m, in \u001b[0;36mPerson.set_age\u001b[0;34m(self, age)\u001b[0m\n\u001b[1;32m      9\u001b[0m \u001b[38;5;28;01mdef\u001b[39;00m \u001b[38;5;21mset_age\u001b[39m(\u001b[38;5;28mself\u001b[39m, age):\n\u001b[1;32m     10\u001b[0m     \u001b[38;5;28;01mif\u001b[39;00m age \u001b[38;5;241m<\u001b[39m \u001b[38;5;241m0\u001b[39m:\n\u001b[0;32m---> 11\u001b[0m         \u001b[38;5;28;01mraise\u001b[39;00m \u001b[38;5;167;01mValueError\u001b[39;00m(\u001b[38;5;124m\"\u001b[39m\u001b[38;5;124mAge cannot be negative.\u001b[39m\u001b[38;5;124m\"\u001b[39m)\n\u001b[1;32m     12\u001b[0m     \u001b[38;5;28;01melse\u001b[39;00m:\n\u001b[1;32m     13\u001b[0m         \u001b[38;5;28mself\u001b[39m\u001b[38;5;241m.\u001b[39m_age \u001b[38;5;241m=\u001b[39m age\n",
      "\u001b[0;31mValueError\u001b[0m: Age cannot be negative."
     ]
    }
   ],
   "source": [
    "person1 = Person(\"John\", 25)\n",
    "print(person1.get_age())  # Output: 25\n",
    "person1.set_age(30)\n",
    "print(person1.get_age())  # Output: 30\n",
    "person1.set_age(-5)      # Raises ValueError: Age cannot be negative.\n"
   ]
  },
  {
   "cell_type": "markdown",
   "id": "335a0e0e-dec2-41f6-8d2c-4f7620b121d6",
   "metadata": {},
   "source": [
    "In this example, we create an instance of the Person class called person1 with the name \"John\" and age 25. We call the get_age() method to get the age of person1, which returns 25. We then call the set_age() method and pass in 30 as the age, which sets the age of person1 to 30. We call get_age() again, which returns 30. Finally, we call set_age() and pass in -5 as the age, which raises a <b><u>ValueError</u></b> because the age is negative.\n"
   ]
  },
  {
   "cell_type": "markdown",
   "id": "a74d5f8d-f4c2-4159-afc2-4e5d22161186",
   "metadata": {},
   "source": [
    "# Q5.What is method overriding in python? Write a python code to demonstrate method overriding."
   ]
  },
  {
   "cell_type": "markdown",
   "id": "88ac4afe-220a-418e-add5-1ee733f54659",
   "metadata": {},
   "source": [
    "A5. Method overriding is a feature in object-oriented programming where a method in a subclass with the same name and parameters as a method in its superclass replaces the method in the superclass.\n",
    "\n",
    "Here's an example that demonstrates method overriding in Python:\n"
   ]
  },
  {
   "cell_type": "code",
   "execution_count": 14,
   "id": "ade9fb22-f10c-4777-99f8-d5c61062ed58",
   "metadata": {},
   "outputs": [
    {
     "name": "stdout",
     "output_type": "stream",
     "text": [
      "The animal speaks.\n",
      "The dog barks.\n"
     ]
    }
   ],
   "source": [
    "class Animal:\n",
    "    def speak(self):\n",
    "        print(\"The animal speaks.\")\n",
    "\n",
    "class Dog(Animal):\n",
    "    def speak(self):\n",
    "        print(\"The dog barks.\")\n",
    "\n",
    "animal = Animal()\n",
    "animal.speak()   # Output: The animal speaks.\n",
    "\n",
    "dog = Dog()\n",
    "dog.speak()      # Output: The dog barks.\n"
   ]
  },
  {
   "cell_type": "markdown",
   "id": "b67accd7-4624-4e8f-933f-d718778bbfd4",
   "metadata": {},
   "source": [
    "In this example, we have a Animal class with a method speak() that prints \"The animal speaks.\". We also have a Dog class that inherits from the Animal class and overrides the speak() method with its own implementation that prints \"The dog barks.\".\n",
    "\n",
    "We create an instance of the Animal class called animal and call the speak() method, which prints \"The animal speaks.\". We also create an instance of the Dog class called dog and call the speak() method, which prints \"The dog barks.\". The Dog class overrides the speak() method inherited from the Animal class with its own implementation."
   ]
  }
 ],
 "metadata": {
  "kernelspec": {
   "display_name": "Python 3 (ipykernel)",
   "language": "python",
   "name": "python3"
  },
  "language_info": {
   "codemirror_mode": {
    "name": "ipython",
    "version": 3
   },
   "file_extension": ".py",
   "mimetype": "text/x-python",
   "name": "python",
   "nbconvert_exporter": "python",
   "pygments_lexer": "ipython3",
   "version": "3.10.8"
  }
 },
 "nbformat": 4,
 "nbformat_minor": 5
}
