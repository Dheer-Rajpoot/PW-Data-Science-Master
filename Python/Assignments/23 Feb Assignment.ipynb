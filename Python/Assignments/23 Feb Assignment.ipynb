{
 "cells": [
  {
   "cell_type": "markdown",
   "id": "67abddc5-2f52-4c27-a21d-615ce4b0f7d4",
   "metadata": {},
   "source": [
    "# Q1. Create a Pandas Series that contains the following data: 4, 8, 15, 16, 23, and 42. Then, print the series."
   ]
  },
  {
   "cell_type": "code",
   "execution_count": 1,
   "id": "98811e63-4f90-43fe-aceb-28e17f972739",
   "metadata": {},
   "outputs": [
    {
     "name": "stdout",
     "output_type": "stream",
     "text": [
      "0     4\n",
      "1     8\n",
      "2    15\n",
      "3    16\n",
      "4    23\n",
      "5    42\n",
      "dtype: int64\n"
     ]
    }
   ],
   "source": [
    "import pandas as pd\n",
    "\n",
    "# create a list of data\n",
    "data = [4, 8, 15, 16, 23, 42]\n",
    "\n",
    "# create a pandas Series object from the data\n",
    "series = pd.Series(data)\n",
    "\n",
    "# print the Series object\n",
    "print(series)"
   ]
  },
  {
   "cell_type": "markdown",
   "id": "09113367-d2c6-459f-b3c8-4b360e754158",
   "metadata": {},
   "source": [
    "# Q2. Create a variable of list type containing 10 elements in it, and apply pandas.Series function on the variable print it."
   ]
  },
  {
   "cell_type": "code",
   "execution_count": 2,
   "id": "5299f84b-22f2-497d-9064-8f14e3bb16e5",
   "metadata": {},
   "outputs": [
    {
     "name": "stdout",
     "output_type": "stream",
     "text": [
      "0    14\n",
      "1    24\n",
      "2    34\n",
      "3    44\n",
      "4    54\n",
      "5    64\n",
      "6    74\n",
      "7    84\n",
      "8    94\n",
      "9     4\n",
      "dtype: int64\n"
     ]
    }
   ],
   "source": [
    "import pandas as pd\n",
    "# create a list of elements\n",
    "elements = [14,24,34,44,54,64,74,84,94,4]\n",
    "series = pd.Series(elements)\n",
    "print(series)"
   ]
  },
  {
   "attachments": {
    "160f049a-9b88-43da-adc4-49c9c96f5b94.png": {
     "image/png": "[encoded data removed]"
    }
   },
   "cell_type": "markdown",
   "id": "207f5b02-4d56-482a-b8f9-0bd638222428",
   "metadata": {},
   "source": [
    "![image.png](attachment:160f049a-9b88-43da-adc4-49c9c96f5b94.png)"
   ]
  },
  {
   "cell_type": "code",
   "execution_count": 3,
   "id": "8aa018d3-2568-412a-b860-1803b0d5a3c9",
   "metadata": {},
   "outputs": [
    {
     "name": "stdout",
     "output_type": "stream",
     "text": [
      "     Name  Age  Gender\n",
      "0    Alic   25  Female\n",
      "1     Bob   30    Male\n",
      "2  Claire   27  Female\n"
     ]
    }
   ],
   "source": [
    "import pandas as pd\n",
    "\n",
    "# create a dictionary of data\n",
    "data = {'Name': ['Alic', 'Bob', 'Claire'],\n",
    "        'Age': [25, 30, 27],\n",
    "        'Gender': ['Female', 'Male', 'Female']\n",
    "        }\n",
    "\n",
    "# create a pandas DataFrame object from the data\n",
    "df = pd.DataFrame(data)\n",
    "\n",
    "# print the DataFrame object\n",
    "print(df)"
   ]
  },
  {
   "cell_type": "markdown",
   "id": "556255a3-9770-4dbb-a09e-0d6d4f1f6399",
   "metadata": {},
   "source": [
    "# Q4. What is ‘DataFrame’ in pandas and how is it different from pandas.series? Explain with an example."
   ]
  },
  {
   "cell_type": "markdown",
   "id": "2b45874f-2741-4cd4-b37f-c9d1a5460a58",
   "metadata": {},
   "source": [
    "A4. In pandas, a DataFrame is a two-dimensional table-like data structure that contains rows and columns, similar to a spreadsheet or SQL table. It is one of the most commonly used data structures in pandas, and is designed to handle a wide range of data formats and operations. Each column in a DataFrame is a pandas Series object, which is a one-dimensional array-like object that contains a sequence of values and an index.\n",
    "\n",
    "The main difference between a pandas Series and a DataFrame is that a Series represents a single column of data, whereas a DataFrame represents a collection of columns (i.e. multiple Series) that can be used together to perform complex data operations. In other words, a Series is a one-dimensional array, while a DataFrame is a two-dimensional array.\n",
    "\n",
    "Here's an example to illustrate the difference between a pandas Series and a DataFrame:"
   ]
  },
  {
   "cell_type": "code",
   "execution_count": 4,
   "id": "46e26c3d-77bd-45ac-bf5f-3b8dd3f6bc50",
   "metadata": {},
   "outputs": [
    {
     "name": "stdout",
     "output_type": "stream",
     "text": [
      "DataFrame:\n",
      "     Name  Age  Country  Salary\n",
      "0    John   28      USA   60000\n",
      "1    Anna   25       UK   45000\n",
      "2   Peter   33  Germany   80000\n",
      "3   Linda   42   France   70000\n",
      "4  Sophie   19   Canada   55000\n",
      "\n",
      "Series:\n",
      "0    28\n",
      "1    25\n",
      "2    33\n",
      "3    42\n",
      "4    19\n",
      "Name: Age, dtype: int64\n"
     ]
    }
   ],
   "source": [
    "import pandas as pd\n",
    "\n",
    "# create a dictionary of data\n",
    "data = {'Name': ['John', 'Anna', 'Peter', 'Linda', 'Sophie'],\n",
    "        'Age': [28, 25, 33, 42, 19],\n",
    "        'Country': ['USA', 'UK', 'Germany', 'France', 'Canada'],\n",
    "        'Salary': [60000, 45000, 80000, 70000, 55000]}\n",
    "\n",
    "# create a pandas DataFrame object from the data\n",
    "df = pd.DataFrame(data)\n",
    "\n",
    "# create a pandas Series object from the 'Age' column of the DataFrame\n",
    "age_series = df['Age']\n",
    "\n",
    "# print the DataFrame object and the Series object\n",
    "print('DataFrame:')\n",
    "print(df)\n",
    "print('\\nSeries:')\n",
    "print(age_series)\n"
   ]
  },
  {
   "cell_type": "markdown",
   "id": "9d0a0ed0-b759-44fd-ba86-d72cc16ceba7",
   "metadata": {},
   "source": [
    "In this example, we created a pandas DataFrame object from a dictionary of data, which contains four columns ('Name', 'Age', 'Country', and 'Salary') and five rows of data. We then extracted a single column ('Age') from the DataFrame using the indexing operator ([]), which returned a pandas Series object that contains the values from the 'Age' column. Finally, we printed both the DataFrame and the Series objects.\n",
    "\n",
    "As you can see from the output, the DataFrame is a two-dimensional table-like structure that contains all of the data from the original dictionary, while the Series is a one-dimensional array-like object that contains only the data from a single column of the DataFrame. While both objects share many of the same methods and attributes, they are different data structures and are used in different ways depending on the task at hand."
   ]
  },
  {
   "cell_type": "markdown",
   "id": "4d0f9bc3-b76f-4631-a40e-55b987dad7b4",
   "metadata": {},
   "source": [
    "# Q5. What are some common functions you can use to manipulate data in a Pandas DataFrame? Can you give an example of when you might use one of these functions?"
   ]
  },
  {
   "cell_type": "markdown",
   "id": "c08621da-6ffe-4068-b06b-4b7a72037b48",
   "metadata": {},
   "source": [
    "A5. Pandas provides a wide range of functions that can be used to manipulate data in a DataFrame. Some of the common functions include:\n",
    "\n",
    "head() and tail(): These functions allow you to view the first or last n rows of a DataFrame. For example, df.head(10) will return the first 10 rows of the DataFrame df.\n",
    "\n",
    "describe(): This function provides a summary of the descriptive statistics of a DataFrame. For example, df.describe() will return the count, mean, standard deviation, minimum, and maximum values for each numeric column in the DataFrame df.\n",
    "\n",
    "dropna(): This function allows you to remove rows or columns with missing values (i.e. NaN values) from a DataFrame. For example, df.dropna() will return a new DataFrame with all rows containing missing values removed.\n",
    "\n",
    "fillna(): This function allows you to fill missing values in a DataFrame with a specified value or method. For example, df.fillna(0) will fill all missing values in the DataFrame df with the value 0.\n",
    "\n",
    "groupby(): This function allows you to group a DataFrame by one or more columns and apply a function to each group. For example, df.groupby('Country')['Salary'].mean() will group the DataFrame df by the 'Country' column and calculate the mean salary for each group.\n",
    "\n",
    "sort_values(): This function allows you to sort a DataFrame by one or more columns in ascending or descending order. For example, df.sort_values(by='Salary', ascending=False) will sort the DataFrame df by the 'Salary' column in descending order.\n",
    "\n",
    "apply(): This function allows you to apply a function to each element or row/column of a DataFrame. For example, df['Name'].apply(lambda x: x.upper()) will apply the upper() method to each element in the 'Name' column of the DataFrame df.\n",
    "\n",
    "One example of when you might use one of these functions is when you have a DataFrame with missing values, and you want to remove or fill those missing values before performing any analysis or modeling. You can use the dropna() or fillna() functions to achieve this. For example, if you have a DataFrame df with missing values in the 'Salary' column, you can use the fillna() function to fill those missing values with the mean salary of the non-missing values:"
   ]
  },
  {
   "cell_type": "code",
   "execution_count": 5,
   "id": "d8e07c66-b91f-441f-9679-334eb24c87fd",
   "metadata": {},
   "outputs": [
    {
     "name": "stdout",
     "output_type": "stream",
     "text": [
      "     Name  Age  Country        Salary\n",
      "0    John   28      USA  60000.000000\n",
      "1    Anna   25       UK  45000.000000\n",
      "2   Peter   33  Germany  58333.333333\n",
      "3   Linda   42   France  70000.000000\n",
      "4  Sophie   19   Canada  58333.333333\n"
     ]
    }
   ],
   "source": [
    "import pandas as pd\n",
    "\n",
    "# create a DataFrame with missing values\n",
    "data = {'Name': ['John', 'Anna', 'Peter', 'Linda', 'Sophie'],\n",
    "        'Age': [28, 25, 33, 42, 19],\n",
    "        'Country': ['USA', 'UK', 'Germany', 'France', 'Canada'],\n",
    "        'Salary': [60000, 45000, None, 70000, None]}\n",
    "df = pd.DataFrame(data)\n",
    "\n",
    "# fill missing values with the mean salary\n",
    "mean_salary = df['Salary'].mean()\n",
    "df['Salary'] = df['Salary'].fillna(mean_salary)\n",
    "\n",
    "# print the updated DataFrame\n",
    "print(df)\n"
   ]
  },
  {
   "cell_type": "markdown",
   "id": "55a74107-cf3a-4ed0-bef5-6f9d84472145",
   "metadata": {},
   "source": [
    "In this example, we used the fillna() function to fill the missing values in the 'Salary' column of the DataFrame df with the mean salary of the non-missing values. The resulting DataFrame has no missing values in the 'Salary' column, which can now be used for further analysis or modeling.\n",
    "\n",
    "Another example of when we might use one of these functions is when you want to group a DataFrame by one or more columns and perform some analysis on each group. You can use the groupby() function to achieve this. For example, if you have a DataFrame df with information about employees in different countries, and you want to calculate the average salary for each country:"
   ]
  },
  {
   "cell_type": "code",
   "execution_count": 6,
   "id": "1815ac8f-34d8-4f4a-a543-4d7ee17678c7",
   "metadata": {},
   "outputs": [
    {
     "name": "stdout",
     "output_type": "stream",
     "text": [
      "Country\n",
      "Canada     50000.0\n",
      "France     70000.0\n",
      "Germany    55000.0\n",
      "UK         45000.0\n",
      "USA        60000.0\n",
      "Name: Salary, dtype: float64\n"
     ]
    }
   ],
   "source": [
    "import pandas as pd\n",
    "\n",
    "# create a DataFrame with employee data\n",
    "data = {'Name': ['John', 'Anna', 'Peter', 'Linda', 'Sophie'],\n",
    "        'Age': [28, 25, 33, 42, 19],\n",
    "        'Country': ['USA', 'UK', 'Germany', 'France', 'Canada'],\n",
    "        'Salary': [60000, 45000, 55000, 70000, 50000]}\n",
    "df = pd.DataFrame(data)\n",
    "\n",
    "# calculate the average salary for each country\n",
    "avg_salary_by_country = df.groupby('Country')['Salary'].mean()\n",
    "\n",
    "# print the result\n",
    "print(avg_salary_by_country)\n"
   ]
  },
  {
   "cell_type": "markdown",
   "id": "36732a6c-daed-4f78-9adb-df6ac75fdde6",
   "metadata": {},
   "source": [
    "In this example, we used the groupby() function to group the DataFrame df by the 'Country' column, and calculated the average salary for each group using the mean() method. The resulting avg_salary_by_country variable is a Series object that contains the average salary for each country, which can be used for further analysis or visualization."
   ]
  },
  {
   "cell_type": "markdown",
   "id": "ccba0637-ac8b-418d-ba07-f453ce98412b",
   "metadata": {},
   "source": [
    "# Q6. Which of the following is mutable in nature Series, DataFrame, Panel?"
   ]
  },
  {
   "cell_type": "markdown",
   "id": "c824e412-f5c4-428a-be76-f69f8d6999e1",
   "metadata": {},
   "source": [
    "A6. Both Series and DataFrame are mutable in nature in Pandas. This means that you can modify the contents of a Series or DataFrame object after it has been created by updating, adding, or removing elements.\n",
    "\n",
    "For example, you can update the value of a specific element in a Series or DataFrame using indexing, or add a new column to a DataFrame using the assign() method.\n",
    "\n",
    "On the other hand, Panel objects are not very commonly used in Pandas, and are not considered mutable in the latest version of Pandas. They were deprecated in Pandas 0.25.0 and were removed from the API in Pandas 1.0.0, as their functionality can be achieved using other Pandas objects such as MultiIndex DataFrames."
   ]
  },
  {
   "cell_type": "code",
   "execution_count": null,
   "id": "a4f34075-6b2c-43a6-b372-755656b661f2",
   "metadata": {},
   "outputs": [],
   "source": []
  }
 ],
 "metadata": {
  "kernelspec": {
   "display_name": "Python 3 (ipykernel)",
   "language": "python",
   "name": "python3"
  },
  "language_info": {
   "codemirror_mode": {
    "name": "ipython",
    "version": 3
   },
   "file_extension": ".py",
   "mimetype": "text/x-python",
   "name": "python",
   "nbconvert_exporter": "python",
   "pygments_lexer": "ipython3",
   "version": "3.10.8"
  }
 },
 "nbformat": 4,
 "nbformat_minor": 5
}
