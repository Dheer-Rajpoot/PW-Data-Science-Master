{
 "cells": [
  {
   "cell_type": "markdown",
   "id": "153a1107-b8dc-4b30-aab4-108aef542ec2",
   "metadata": {},
   "source": [
    "# Q1. Explain Class and Object with respect to Object-Oriented Programming. Give a suitable example."
   ]
  },
  {
   "cell_type": "markdown",
   "id": "96538840-9701-4049-92c5-e4e865f5039a",
   "metadata": {},
   "source": [
    "A1. In Object-Oriented Programming (OOP), a class is a blueprint for creating objects, which defines a set of attributes and methods that the objects will have. An object, on the other hand, is an instance of a class, created using the class definition, which contains the specific values for the attributes of that instance and can call the methods defined in the class.\n",
    "\n",
    "To understand this better, let's take an example of a class called \"Person\" that has attributes like name, age, and gender, and methods like say_hello() and get_age(). Here's how you could define the class and create an object of it:"
   ]
  },
  {
   "cell_type": "code",
   "execution_count": 1,
   "id": "90718aa3-a3dc-46fe-9211-4616a8a8eb22",
   "metadata": {},
   "outputs": [],
   "source": [
    "class Person:\n",
    "    def __init__(self, name, age, gender):\n",
    "        self.name = name\n",
    "        self.age = age\n",
    "        self.gender = gender\n",
    "\n",
    "    def say_hello(self):\n",
    "        print(\"Hello, my name is\", self.name)\n",
    "\n",
    "    def get_age(self):\n",
    "        return self.age\n",
    "\n",
    "# Creating an object of the Person class\n",
    "person1 = Person(\"Alice\", 25, \"Female\")\n"
   ]
  },
  {
   "cell_type": "markdown",
   "id": "bd84987e-a552-4792-b512-5bd5623a068b",
   "metadata": {},
   "source": [
    "# Q2. Name the four pillars of OOPs."
   ]
  },
  {
   "cell_type": "markdown",
   "id": "562be4b6-e117-40db-b76e-4bbe5620747d",
   "metadata": {},
   "source": [
    "A2. The four pillars of Object-Oriented Programming (OOP) are:\n",
    "\n",
    "Encapsulation: This refers to the practice of grouping related data and functions (or methods) together to form a class. The internal details of the class are hidden from the outside world, and only the public interface is accessible to other objects. This helps to prevent unwanted interference with the internal state of an object and ensures data security and modularity.\n",
    "\n",
    "Inheritance: This refers to the process of creating new classes from existing ones. The new class, known as a subclass or derived class, inherits the attributes and methods of the existing class, known as the superclass or base class. Inheritance helps to reduce code redundancy and promotes code reuse, as well as allows for specialization of the subclasses.\n",
    "\n",
    "Polymorphism: This refers to the ability of objects to take on different forms or behaviors depending on the context in which they are used. There are two types of polymorphism: static (compile-time) and dynamic (run-time). Static polymorphism is achieved through method overloading, while dynamic polymorphism is achieved through method overriding and interface implementation. Polymorphism promotes flexibility and extensibility in code design.\n",
    "\n",
    "Abstraction: This refers to the practice of representing complex systems using simplified models that capture only the most important details. In OOP, abstraction is achieved through abstract classes and interfaces, which define the common behavior of related objects without specifying their exact implementation. Abstraction helps to reduce complexity and improve code maintainability and readability."
   ]
  },
  {
   "cell_type": "markdown",
   "id": "d565dec4-39a8-4976-8c16-cf9265ac0655",
   "metadata": {},
   "source": [
    "# Q3. Explain why the __init__() function is used. Give a suitable example."
   ]
  },
  {
   "cell_type": "markdown",
   "id": "d6783e6f-49ee-4abd-b972-18c52e579b93",
   "metadata": {},
   "source": [
    "A3. In Python, the __init__() function is called constructor that is used to initialize objects of a class. It is called automatically when an object is created from the class, and it can be used to set the initial state of the object by assigning values to its attributes.\n",
    "\n",
    "Here's an example to demonstrate the use of __init__() function:"
   ]
  },
  {
   "cell_type": "code",
   "execution_count": 3,
   "id": "7e865345-414b-4dbb-b6fb-b1b81f82cfdb",
   "metadata": {},
   "outputs": [
    {
     "name": "stdout",
     "output_type": "stream",
     "text": [
      "Woof! My name is Buddy and I am a Golden Retriever\n"
     ]
    }
   ],
   "source": [
    "class Dog:\n",
    "    def __init__(self, name, breed, age):\n",
    "        self.name = name\n",
    "        self.breed = breed\n",
    "        self.age = age\n",
    "\n",
    "    def bark(self):\n",
    "        print(\"Woof! My name is\", self.name, \"and I am a\", self.breed)\n",
    "\n",
    "my_dog = Dog(\"Buddy\", \"Golden Retriever\", 5)\n",
    "my_dog.bark()\n"
   ]
  },
  {
   "cell_type": "markdown",
   "id": "22c6d7f3-8a7c-41b3-a321-640b04251b19",
   "metadata": {},
   "source": [
    "In this example, we define a class Dog that has three attributes name, breed, and age, as well as a method bark(). The __init__() function is defined with three parameters name, breed, and age, and it assigns these values to the corresponding attributes of the object using the self parameter.\n",
    "\n",
    "We create an object of the Dog class named my_dog by passing the required arguments to the __init__() function. The values assigned to the object's attributes are determined by the arguments passed during the object's creation.\n",
    "\n",
    "Finally, we call the bark() method on my_dog, which prints a message with the dog's name and breed.\n",
    "\n",
    "Using the __init__() function to set the initial state of an object is important because it ensures that all necessary attributes are initialized when the object is created, and it provides a convenient way to pass arguments to the object. Additionally, it can also be used to perform any other setup actions that are required for the object to function properly."
   ]
  },
  {
   "cell_type": "markdown",
   "id": "cd74c4b2-3a6a-47df-9a83-c410a3db982f",
   "metadata": {},
   "source": [
    "# Q4. Why self is used in OOPs?"
   ]
  },
  {
   "cell_type": "markdown",
   "id": "794752a1-2d38-4683-b38f-27d2e29de591",
   "metadata": {},
   "source": [
    "A4. In Object-Oriented Programming (OOP), self is a special keyword that is used to refer to the object that is currently being operated on. It is used within a class definition to refer to the instance of the class that is being created or accessed.\n",
    "\n",
    "The use of self is important because it allows multiple instances of a class to exist, each with its own set of attributes and methods. When a method is called on an instance of a class, self is used to refer to that specific instance, so that the method can access and manipulate its own attributes.\n",
    "\n",
    "Here's an example to demonstrate the use of self in Python:"
   ]
  },
  {
   "cell_type": "code",
   "execution_count": 4,
   "id": "b6b8a6d2-84ca-46b7-bc7a-b92b9963b33a",
   "metadata": {},
   "outputs": [
    {
     "name": "stdout",
     "output_type": "stream",
     "text": [
      "The car is a Toyota Camry manufactured in 2021\n"
     ]
    }
   ],
   "source": [
    "class Car:\n",
    "    def __init__(self, make, model, year):\n",
    "        self.make = make\n",
    "        self.model = model\n",
    "        self.year = year\n",
    "    \n",
    "    def description(self):\n",
    "        return \"The car is a \" + self.make + \" \" + self.model + \" manufactured in \" + str(self.year)\n",
    "\n",
    "my_car = Car(\"Toyota\", \"Camry\", 2021)\n",
    "print(my_car.description())\n"
   ]
  },
  {
   "cell_type": "markdown",
   "id": "3375f5cf-5797-418a-b9d2-f4ce85dec7dc",
   "metadata": {},
   "source": [
    "In this example, we define a class Car with three attributes make, model, and year, as well as a method description(). The __init__() function is used to initialize these attributes when an object of the Car class is created.\n",
    "\n",
    "In the description() method, the self parameter is used to refer to the instance of the class that is currently being operated on. The method then accesses the make, model, and year attributes of the instance using self, and returns a description string.\n",
    "\n",
    "Finally, we create an object my_car of the Car class by passing the required arguments to the __init__() function. We then call the description() method on my_car, which prints a description of the car.\n",
    "\n",
    "In summary, self is used in OOP to refer to the instance of a class that is currently being operated on. It allows multiple instances of a class to exist, each with its own set of attributes and methods, and it is a crucial component of encapsulation, which is one of the four pillars of OOP."
   ]
  },
  {
   "cell_type": "markdown",
   "id": "e8341794-ba54-4694-8704-ccf4082a3a3c",
   "metadata": {},
   "source": [
    "# Q5. What is inheritance? Give an example for each type of inheritance. "
   ]
  },
  {
   "cell_type": "markdown",
   "id": "4d5f1a4c-85a6-4945-a619-bf99f51e1862",
   "metadata": {},
   "source": [
    "A5. Inheritance is a mechanism in Object-Oriented Programming (OOP) that allows a new class to be based on an existing class, inheriting its attributes and methods. The existing class is called the parent or superclass, while the new class is called the child or subclass.\n",
    "\n",
    "Types of Inheritance depend upon the number of child and parent classes involved. There are five types of inheritance in Python:\n",
    "1. Single Inheritence\n",
    "2. Multiple Inheritance\n",
    "3. Multilevel Inheritance\n",
    "4. Hierarchical Inheritance\n",
    "5. Hybrid Inheritance\n",
    "\n",
    "Single Inheritance: \n",
    "Single inheritance enables a derived class to inherit properties from a single parent class, thus enabling code reusability and the addition of new features to existing code."
   ]
  },
  {
   "cell_type": "code",
   "execution_count": 5,
   "id": "400ab67d-ac34-4442-aca1-1e5bf808f6da",
   "metadata": {},
   "outputs": [
    {
     "name": "stdout",
     "output_type": "stream",
     "text": [
      "This function is in parent class.\n",
      "This function is in child class.\n"
     ]
    }
   ],
   "source": [
    "# Python program to demonstrate\n",
    "# single inheritance\n",
    "\n",
    "# Base class\n",
    "class Parent:\n",
    "\tdef func1(self):\n",
    "\t\tprint(\"This function is in parent class.\")\n",
    "\n",
    "# Derived class\n",
    "\n",
    "\n",
    "class Child(Parent):\n",
    "\tdef func2(self):\n",
    "\t\tprint(\"This function is in child class.\")\n",
    "\n",
    "\n",
    "# Driver's code\n",
    "object = Child()\n",
    "object.func1()\n",
    "object.func2()\n"
   ]
  },
  {
   "cell_type": "markdown",
   "id": "783c6c49-93b8-418d-9fcf-ffa1d04e4e91",
   "metadata": {},
   "source": [
    "Multiple Inheritance: \n",
    "When a class can be derived from more than one base class this type of inheritance is called multiple inheritances. In multiple inheritances, all the features of the base classes are inherited into the derived class. "
   ]
  },
  {
   "cell_type": "code",
   "execution_count": 6,
   "id": "9b2b7c85-1c63-44fe-a9aa-3c5fbed352db",
   "metadata": {},
   "outputs": [
    {
     "name": "stdout",
     "output_type": "stream",
     "text": [
      "Father : RAM\n",
      "Mother : SITA\n"
     ]
    }
   ],
   "source": [
    "# Python program to demonstrate\n",
    "# multiple inheritance\n",
    "\n",
    "# Base class1\n",
    "class Mother:\n",
    "\tmothername = \"\"\n",
    "\n",
    "\tdef mother(self):\n",
    "\t\tprint(self.mothername)\n",
    "\n",
    "# Base class2\n",
    "\n",
    "\n",
    "class Father:\n",
    "\tfathername = \"\"\n",
    "\n",
    "\tdef father(self):\n",
    "\t\tprint(self.fathername)\n",
    "\n",
    "# Derived class\n",
    "\n",
    "\n",
    "class Son(Mother, Father):\n",
    "\tdef parents(self):\n",
    "\t\tprint(\"Father :\", self.fathername)\n",
    "\t\tprint(\"Mother :\", self.mothername)\n",
    "\n",
    "\n",
    "# Driver's code\n",
    "s1 = Son()\n",
    "s1.fathername = \"RAM\"\n",
    "s1.mothername = \"SITA\"\n",
    "s1.parents()\n"
   ]
  },
  {
   "cell_type": "markdown",
   "id": "86f6f801-80fe-467b-b209-6f77b9e564f5",
   "metadata": {},
   "source": [
    "Multilevel Inheritance :\n",
    "In multilevel inheritance, features of the base class and the derived class are further inherited into the new derived class. This is similar to a relationship representing a child and a grandfather. "
   ]
  },
  {
   "cell_type": "code",
   "execution_count": 7,
   "id": "9f857006-1943-4f78-9ba0-0808b1505f20",
   "metadata": {},
   "outputs": [
    {
     "name": "stdout",
     "output_type": "stream",
     "text": [
      "Lal mani\n",
      "Grandfather name : Lal mani\n",
      "Father name : Rampal\n",
      "Son name : Prince\n"
     ]
    }
   ],
   "source": [
    "# Python program to demonstrate\n",
    "# multilevel inheritance\n",
    "\n",
    "# Base class\n",
    "\n",
    "\n",
    "class Grandfather:\n",
    "\n",
    "\tdef __init__(self, grandfathername):\n",
    "\t\tself.grandfathername = grandfathername\n",
    "\n",
    "# Intermediate class\n",
    "\n",
    "\n",
    "class Father(Grandfather):\n",
    "\tdef __init__(self, fathername, grandfathername):\n",
    "\t\tself.fathername = fathername\n",
    "\n",
    "\t\t# invoking constructor of Grandfather class\n",
    "\t\tGrandfather.__init__(self, grandfathername)\n",
    "\n",
    "# Derived class\n",
    "\n",
    "\n",
    "class Son(Father):\n",
    "\tdef __init__(self, sonname, fathername, grandfathername):\n",
    "\t\tself.sonname = sonname\n",
    "\n",
    "\t\t# invoking constructor of Father class\n",
    "\t\tFather.__init__(self, fathername, grandfathername)\n",
    "\n",
    "\tdef print_name(self):\n",
    "\t\tprint('Grandfather name :', self.grandfathername)\n",
    "\t\tprint(\"Father name :\", self.fathername)\n",
    "\t\tprint(\"Son name :\", self.sonname)\n",
    "\n",
    "\n",
    "# Driver code\n",
    "s1 = Son('Prince', 'Rampal', 'Lal mani')\n",
    "print(s1.grandfathername)\n",
    "s1.print_name()\n"
   ]
  },
  {
   "cell_type": "markdown",
   "id": "b81df95d-4131-4aab-a3b9-764692ca135a",
   "metadata": {},
   "source": [
    "Hierarchical Inheritance: \n",
    "When more than one derived class are created from a single base this type of inheritance is called hierarchical inheritance. In this program, we have a parent (base) class and two child (derived) classes."
   ]
  },
  {
   "cell_type": "code",
   "execution_count": 8,
   "id": "7f38601f-7cd9-4297-ab63-6feb88e560d3",
   "metadata": {},
   "outputs": [
    {
     "name": "stdout",
     "output_type": "stream",
     "text": [
      "This function is in parent class.\n",
      "This function is in child 1.\n",
      "This function is in parent class.\n",
      "This function is in child 2.\n"
     ]
    }
   ],
   "source": [
    "# Python program to demonstrate\n",
    "# Hierarchical inheritance\n",
    "\n",
    "\n",
    "# Base class\n",
    "class Parent:\n",
    "\tdef func1(self):\n",
    "\t\tprint(\"This function is in parent class.\")\n",
    "\n",
    "# Derived class1\n",
    "\n",
    "\n",
    "class Child1(Parent):\n",
    "\tdef func2(self):\n",
    "\t\tprint(\"This function is in child 1.\")\n",
    "\n",
    "# Derivied class2\n",
    "\n",
    "\n",
    "class Child2(Parent):\n",
    "\tdef func3(self):\n",
    "\t\tprint(\"This function is in child 2.\")\n",
    "\n",
    "\n",
    "# Driver's code\n",
    "object1 = Child1()\n",
    "object2 = Child2()\n",
    "object1.func1()\n",
    "object1.func2()\n",
    "object2.func1()\n",
    "object2.func3()\n"
   ]
  },
  {
   "cell_type": "markdown",
   "id": "e2f9a27f-64b8-4ec5-8fbc-0ff15e787a5b",
   "metadata": {},
   "source": [
    "Hybrid Inheritance: \n",
    "Inheritance consisting of multiple types of inheritance is called hybrid inheritance."
   ]
  },
  {
   "cell_type": "code",
   "execution_count": 9,
   "id": "ecb9f344-41b8-4f5b-ad3b-dc416d7f083c",
   "metadata": {},
   "outputs": [
    {
     "name": "stdout",
     "output_type": "stream",
     "text": [
      "This function is in school.\n",
      "This function is in student 1. \n"
     ]
    }
   ],
   "source": [
    "# Python program to demonstrate\n",
    "# hybrid inheritance\n",
    "\n",
    "\n",
    "class School:\n",
    "\tdef func1(self):\n",
    "\t\tprint(\"This function is in school.\")\n",
    "\n",
    "\n",
    "class Student1(School):\n",
    "\tdef func2(self):\n",
    "\t\tprint(\"This function is in student 1. \")\n",
    "\n",
    "\n",
    "class Student2(School):\n",
    "\tdef func3(self):\n",
    "\t\tprint(\"This function is in student 2.\")\n",
    "\n",
    "\n",
    "class Student3(Student1, School):\n",
    "\tdef func4(self):\n",
    "\t\tprint(\"This function is in student 3.\")\n",
    "\n",
    "\n",
    "# Driver's code\n",
    "object = Student3()\n",
    "object.func1()\n",
    "object.func2()\n"
   ]
  },
  {
   "cell_type": "code",
   "execution_count": null,
   "id": "30eae41d-83da-46b8-90fa-46622019d37e",
   "metadata": {},
   "outputs": [],
   "source": []
  }
 ],
 "metadata": {
  "kernelspec": {
   "display_name": "Python 3 (ipykernel)",
   "language": "python",
   "name": "python3"
  },
  "language_info": {
   "codemirror_mode": {
    "name": "ipython",
    "version": 3
   },
   "file_extension": ".py",
   "mimetype": "text/x-python",
   "name": "python",
   "nbconvert_exporter": "python",
   "pygments_lexer": "ipython3",
   "version": "3.10.8"
  }
 },
 "nbformat": 4,
 "nbformat_minor": 5
}
