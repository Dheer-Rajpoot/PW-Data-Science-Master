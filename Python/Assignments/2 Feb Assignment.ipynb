{
 "cells": [
  {
   "cell_type": "markdown",
   "id": "82704269-2384-4d32-908d-cb94a50d1048",
   "metadata": {
    "jp-MarkdownHeadingCollapsed": true,
    "tags": []
   },
   "source": [
    "# Q1. What are the characteristics of the tuples? Is tuple immutable?"
   ]
  },
  {
   "cell_type": "markdown",
   "id": "334c78ee-0078-4629-aa92-d83fe92d4154",
   "metadata": {},
   "source": [
    "A1. A tuple is a type of collection in Python that is similar to a list, but with some key differences. Here are the key characteristics of tuples:\n",
    "\n",
    "Tuples are ordered: The items in a tuple have a specific order that is maintained when you access or modify the tuple.\n",
    "\n",
    "Tuples are indexed: You can access individual items in a tuple by their index, just like you can with a list.\n",
    "\n",
    "Tuples can contain any type of object: Tuples can contain elements of any data type, including numbers, strings, lists, and even other tuples.\n",
    "\n",
    "Tuples are immutable: Once a tuple is created, its contents cannot be modified. You cannot add, remove, or change individual items in a tuple.\n",
    "\n",
    "So to answer your question, yes, tuples are immutable in Python. Once a tuple is created, its contents cannot be modified. This is different from lists, which are mutable and can be modified after they are created."
   ]
  },
  {
   "cell_type": "markdown",
   "id": "5e6dfef5-3520-4ab1-8cfb-d31dea310f15",
   "metadata": {
    "jp-MarkdownHeadingCollapsed": true,
    "tags": []
   },
   "source": [
    "# Q2. What are the two tuple methods in python? Give an example of each method. Give a reason why tuples have only two in-built methods as compared to Lists.\n"
   ]
  },
  {
   "cell_type": "markdown",
   "id": "45f16638-0be9-4598-9d2d-1282ef03903c",
   "metadata": {},
   "source": [
    "A2. There are two built-in methods in Python that can be used with tuples:\n",
    "\n",
    "count(): This method returns the number of times a specified element appears in a tuple. Here's an example:"
   ]
  },
  {
   "cell_type": "code",
   "execution_count": 1,
   "id": "c980da57-e3ac-4084-bf59-d8e59033695d",
   "metadata": {},
   "outputs": [
    {
     "name": "stdout",
     "output_type": "stream",
     "text": [
      "3\n"
     ]
    }
   ],
   "source": [
    "my_tuple = (1, 2, 3, 4, 3, 5, 3)\n",
    "count_of_threes = my_tuple.count(3)\n",
    "print(count_of_threes)  "
   ]
  },
  {
   "cell_type": "markdown",
   "id": "96d70b9b-d7b6-473a-bdbf-32209a06d525",
   "metadata": {},
   "source": [
    "index(): This method returns the index of the first occurrence of a specified element in a tuple. Here's an example:\n"
   ]
  },
  {
   "cell_type": "code",
   "execution_count": 2,
   "id": "8caa2925-38ab-4cc7-88bb-8a86bb7e8737",
   "metadata": {},
   "outputs": [
    {
     "name": "stdout",
     "output_type": "stream",
     "text": [
      "2\n"
     ]
    }
   ],
   "source": [
    "my_tuple = (1, 2, 3, 4, 3, 5, 3)\n",
    "index_of_three = my_tuple.index(3)\n",
    "print(index_of_three) "
   ]
  },
  {
   "cell_type": "markdown",
   "id": "b3e9681b-7a38-4b9c-aa99-141a6c28cce3",
   "metadata": {},
   "source": [
    "The reason tuples have only two built-in methods as compared to lists is that tuples are designed to be immutable, whereas lists are designed to be mutable. Since tuples cannot be modified, there is no need for methods like append() or pop() that modify the contents of a tuple. The count() and index() methods are still useful, however, for performing operations on the existing contents of a tuple. Lists, on the other hand, have a much wider range of built-in methods to support their mutable nature."
   ]
  },
  {
   "cell_type": "markdown",
   "id": "ff561aa9-3229-4771-ab79-61dbe655c5f2",
   "metadata": {
    "jp-MarkdownHeadingCollapsed": true,
    "tags": []
   },
   "source": [
    "# Q3. Which collection datatypes in python do not allow duplicate items? Write a code using a set to remove\n",
    "duplicates from the given list.\n",
    "List = [1, 1, 1, 2, 1, 3, 1, 4, 2, 1, 2, 2, 2, 3, 2, 4, 3, 1, 3, 2, 3, 3, 3, 4, 4, 1, 4, 2, 4, 3, 4, 4]"
   ]
  },
  {
   "cell_type": "markdown",
   "id": "9f172f10-d2d6-4699-b3e3-867f13b66df4",
   "metadata": {},
   "source": [
    "A3. In Python, the set and frozenset collection datatypes do not allow duplicate items. A set is an unordered collection of unique elements, while a frozenset is an immutable set."
   ]
  },
  {
   "cell_type": "code",
   "execution_count": 3,
   "id": "6805ff7e-7520-498f-8f9c-0340da0e0210",
   "metadata": {},
   "outputs": [
    {
     "name": "stdout",
     "output_type": "stream",
     "text": [
      "[1, 2, 3, 4]\n"
     ]
    }
   ],
   "source": [
    "List = [1, 1, 1, 2, 1, 3, 1, 4, 2, 1, 2, 2, 2, 3, 2, 4, 3, 1, 3, 2, 3, 3, 3, 4, 4, 1, 4, 2, 4, 3, 4, 4]\n",
    "unique_set = set(List)\n",
    "List = list(unique_set)\n",
    "print(List)"
   ]
  },
  {
   "cell_type": "markdown",
   "id": "1778f6e6-3a3a-46ef-bc80-e4904df0926a",
   "metadata": {
    "jp-MarkdownHeadingCollapsed": true,
    "tags": []
   },
   "source": [
    "# Q4. Explain the difference between the union() and update() methods for a set. Give an example of each method."
   ]
  },
  {
   "cell_type": "markdown",
   "id": "a99c3e6d-b797-4cb1-963a-0c316d55d2e1",
   "metadata": {},
   "source": [
    "A4. Both union() and update() are set methods in Python that are used to combine sets. However, there is a difference between these methods.\n",
    "\n",
    "The union() method creates a new set that contains all the elements from the original set(s) as well as any elements from other iterable(s) that are not already in the original set(s). The original sets are not modified by this method. Here's an example:"
   ]
  },
  {
   "cell_type": "code",
   "execution_count": 4,
   "id": "ca816029-a0ef-48a4-ae67-b7f3c1f93614",
   "metadata": {},
   "outputs": [
    {
     "name": "stdout",
     "output_type": "stream",
     "text": [
      "{1, 2, 3}\n",
      "{3, 4, 5}\n",
      "{1, 2, 3, 4, 5}\n"
     ]
    }
   ],
   "source": [
    "set1 = {1, 2, 3}\n",
    "set2 = {3, 4, 5}\n",
    "set3 = set1.union(set2)\n",
    "print(set1)  # Output: {1, 2, 3}\n",
    "print(set2)  # Output: {3, 4, 5}\n",
    "print(set3)  # Output: {1, 2, 3, 4, 5}\n"
   ]
  },
  {
   "cell_type": "markdown",
   "id": "cf43b1c5-131f-4d6f-b8f4-bdf8f3370748",
   "metadata": {},
   "source": [
    "In this example, set1 and set2 are two sets. The union() method is used to create a new set set3 that contains all the elements from both set1 and set2.\n",
    "\n",
    "The update() method, on the other hand, adds all the elements from another iterable(s) to the original set, modifying it in place. Here's an example:"
   ]
  },
  {
   "cell_type": "code",
   "execution_count": 5,
   "id": "eea0f8ef-1e49-44b5-95ef-ef0bfcbb55f4",
   "metadata": {},
   "outputs": [
    {
     "name": "stdout",
     "output_type": "stream",
     "text": [
      "{1, 2, 3, 4, 5}\n",
      "{3, 4, 5}\n"
     ]
    }
   ],
   "source": [
    "set1 = {1, 2, 3}\n",
    "set2 = {3, 4, 5}\n",
    "set1.update(set2)\n",
    "print(set1)  # Output: {1, 2, 3, 4, 5}\n",
    "print(set2)  # Output: {3, 4, 5}\n"
   ]
  },
  {
   "cell_type": "markdown",
   "id": "6ac48030-97b7-46fb-bef9-2d5a00621981",
   "metadata": {},
   "source": [
    "In this example, set1 and set2 are two sets. The update() method is used to add all the elements from set2 to set1, modifying set1 in place.\n",
    "\n",
    "So the main difference between union() and update() is that union() creates a new set, while update() modifies the original set in place."
   ]
  },
  {
   "cell_type": "markdown",
   "id": "6b85f7dc-92d6-41cb-aac4-fdadfea2bb9f",
   "metadata": {
    "jp-MarkdownHeadingCollapsed": true,
    "tags": []
   },
   "source": [
    "# Q5. What is a dictionary? Give an example. Also, state whether a dictionary is ordered or unordered."
   ]
  },
  {
   "cell_type": "markdown",
   "id": "899725fe-a302-44ae-9d35-b0f09d61a7ba",
   "metadata": {},
   "source": [
    "A5. In Python, a dictionary is a collection of key-value pairs that are used to store and retrieve data. Each key-value pair in a dictionary is separated by a colon (:), and the pairs are separated by commas. A dictionary is defined using curly braces {}, and the keys and values are separated by a colon :. Here's an example:"
   ]
  },
  {
   "cell_type": "code",
   "execution_count": 7,
   "id": "fb2f722e-45ce-4774-bca5-0f45434113c8",
   "metadata": {},
   "outputs": [],
   "source": [
    "my_dict = {\"apple\": 1, \"banana\": 2, \"cherry\": 3}"
   ]
  },
  {
   "cell_type": "markdown",
   "id": "131acac3-4ea0-445c-b4b6-2945b8c4e106",
   "metadata": {},
   "source": [
    "In this example, my_dict is a dictionary that contains three key-value pairs. The keys are \"apple\", \"banana\", and \"cherry\", and the corresponding values are 1, 2, and 3, respectively.\n",
    "\n",
    "Dictionaries in Python are unordered, which means that the order of the key-value pairs may not be the same as the order in which they were inserted into the dictionary. However, starting from Python 3.7, the insertion order of dictionary items is guaranteed to be preserved, which means that the order of key-value pairs will be the same as the order in which they were inserted into the dictionary."
   ]
  },
  {
   "cell_type": "markdown",
   "id": "8c154ed5-d57f-469e-8aa2-6eba51d3cb95",
   "metadata": {
    "jp-MarkdownHeadingCollapsed": true,
    "tags": []
   },
   "source": [
    "# Q6. Can we create a nested dictionary? If so, please give an example by creating a simple one-level nested dictionary."
   ]
  },
  {
   "cell_type": "markdown",
   "id": "97ece151-caca-4063-bd26-814ca33593cf",
   "metadata": {},
   "source": [
    "A6. Yes, we can create a nested dictionary in Python. A nested dictionary is a dictionary that contains another dictionary as its value. Here's an example of a simple one-level nested dictionary:"
   ]
  },
  {
   "cell_type": "code",
   "execution_count": 8,
   "id": "85b64ed1-2ef6-48b0-92a8-683e1d574519",
   "metadata": {},
   "outputs": [],
   "source": [
    "my_dict = {\"apple\": {\"color\": \"red\", \"price\": 1}, \"banana\": {\"color\": \"yellow\", \"price\": 2}, \"cherry\": {\"color\": \"red\", \"price\": 3}}"
   ]
  },
  {
   "cell_type": "markdown",
   "id": "02292e65-cb47-4c8f-bab3-f653c143a0cc",
   "metadata": {},
   "source": [
    "In this example, my_dict is a nested dictionary that contains three key-value pairs. The keys are \"apple\", \"banana\", and \"cherry\". Each value is itself a dictionary that contains two key-value pairs: \"color\" and \"price\". The nested dictionary allows us to store more complex data structures in a convenient and easy-to-access way. We can access the values in the nested dictionary by using the keys for both the outer and inner dictionary, like this:"
   ]
  },
  {
   "cell_type": "code",
   "execution_count": 9,
   "id": "0ab7cd5c-462a-4940-83cf-52ab52160d96",
   "metadata": {},
   "outputs": [
    {
     "name": "stdout",
     "output_type": "stream",
     "text": [
      "red\n",
      "2\n",
      "{'color': 'red', 'price': 3}\n"
     ]
    }
   ],
   "source": [
    "print(my_dict[\"apple\"][\"color\"])   # Output: \"red\"\n",
    "print(my_dict[\"banana\"][\"price\"])  # Output: 2\n",
    "print(my_dict[\"cherry\"])           # Output: {\"color\": \"red\", \"price\": 3}"
   ]
  },
  {
   "cell_type": "markdown",
   "id": "3e6ec388-f734-4bbd-abd0-983dbd0e9eb3",
   "metadata": {},
   "source": [
    "# Q7. Using setdefault() method, create key named topics in the given dictionary and also add the value of the key as this list ['Python', 'Machine Learning’, 'Deep Learning']\n",
    "dict1 = {'language' : 'Python', 'course': 'Data Science Masters'}"
   ]
  },
  {
   "cell_type": "markdown",
   "id": "67bc8538-f2cb-4612-b019-39ad9e8cbb6f",
   "metadata": {},
   "source": [
    "A7. here's how we can use the setdefault() method to create a new key named topics and set its value to ['Python', 'Machine Learning', 'Deep Learning'] in the given dictionary dict1:"
   ]
  },
  {
   "cell_type": "code",
   "execution_count": 10,
   "id": "00bd8e3f-5634-40db-8e7a-9e6e0bf869bd",
   "metadata": {},
   "outputs": [
    {
     "name": "stdout",
     "output_type": "stream",
     "text": [
      "{'language': 'Python', 'course': 'Data Science Masters', 'topics': ['Python', 'Machine Learning', 'Deep Learning']}\n"
     ]
    }
   ],
   "source": [
    "dict1 = {'language' : 'Python', 'course': 'Data Science Masters'}\n",
    "\n",
    "# Using setdefault() to create a new key 'topics' with a default value of an empty list\n",
    "dict1.setdefault('topics', [])\n",
    "\n",
    "# Adding values to the 'topics' list\n",
    "dict1['topics'].extend(['Python', 'Machine Learning', 'Deep Learning'])\n",
    "\n",
    "# Printing the updated dictionary\n",
    "print(dict1)\n"
   ]
  },
  {
   "cell_type": "markdown",
   "id": "e0d2b019-38b3-4adf-85fd-97ae4a533c65",
   "metadata": {},
   "source": [
    "In the above code, setdefault('topics', []) creates a new key 'topics' with a default value of an empty list if it doesn't exist in the dictionary dict1. The extend() method is used to add the given list of values to the existing 'topics' list. Finally, the updated dict1 is printed."
   ]
  },
  {
   "cell_type": "markdown",
   "id": "bc5ef34e-7fdc-4333-9b12-3986bd27eb23",
   "metadata": {},
   "source": [
    "# Q8. What are the three view objects in dictionaries? Use the three in-built methods in python to display these three view objects for the given dictionary.\n",
    "dict1 = {'Sport': 'Cricket' , 'Teams': ['India', 'Australia', 'England', 'South Africa', 'Sri Lanka', 'New Zealand']}"
   ]
  },
  {
   "cell_type": "code",
   "execution_count": null,
   "id": "bce5023a-ea58-4ddf-b6d4-dfe4cee33bb6",
   "metadata": {},
   "outputs": [],
   "source": []
  }
 ],
 "metadata": {
  "kernelspec": {
   "display_name": "Python 3 (ipykernel)",
   "language": "python",
   "name": "python3"
  },
  "language_info": {
   "codemirror_mode": {
    "name": "ipython",
    "version": 3
   },
   "file_extension": ".py",
   "mimetype": "text/x-python",
   "name": "python",
   "nbconvert_exporter": "python",
   "pygments_lexer": "ipython3",
   "version": "3.10.8"
  }
 },
 "nbformat": 4,
 "nbformat_minor": 5
}
