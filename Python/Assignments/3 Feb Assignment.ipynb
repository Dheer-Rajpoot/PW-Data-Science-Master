{
 "cells": [
  {
   "cell_type": "markdown",
   "id": "a0fac887-db58-451b-b5d7-f4363bae515b",
   "metadata": {
    "jp-MarkdownHeadingCollapsed": true,
    "tags": []
   },
   "source": [
    "# Q1. Which keyword is used to create a function? Create a function to return a list of odd numbers in the range of 1 to 25."
   ]
  },
  {
   "cell_type": "markdown",
   "id": "d695e35b-58ca-4622-bd93-5f8f7dbb3468",
   "metadata": {},
   "source": [
    "A1. The keyword used to create a function in Python is def.\n",
    "\n",
    "Here's an example function that returns a list of odd numbers in the range of 1 to 25:"
   ]
  },
  {
   "cell_type": "code",
   "execution_count": 6,
   "id": "b8b3f9f0-3f7f-4e80-a776-593a3d0cb986",
   "metadata": {},
   "outputs": [
    {
     "data": {
      "text/plain": [
       "[1, 3, 5, 7, 9, 11, 13, 15, 17, 19, 21, 23, 25]"
      ]
     },
     "execution_count": 6,
     "metadata": {},
     "output_type": "execute_result"
    }
   ],
   "source": [
    "def get_odd_numbers():\n",
    "    odd_numbers = []\n",
    "    for i in range(1, 26):\n",
    "        if i % 2 == 1:\n",
    "            odd_numbers.append(i)\n",
    "    return odd_numbers\n",
    "get_odd_numbers()"
   ]
  },
  {
   "cell_type": "markdown",
   "id": "f6ef8d52-362f-4b1a-b661-b83e889d2f16",
   "metadata": {},
   "source": [
    "This function creates an empty list odd_numbers, then loops through the range of numbers from 1 to 25. For each number in that range, it checks if the number is odd using the modulo operator (%), and if it is, it adds it to the odd_numbers list. Finally, the function returns the odd_numbers list."
   ]
  },
  {
   "cell_type": "markdown",
   "id": "457eda3d-0071-48a1-b90c-a3d6377ea400",
   "metadata": {
    "tags": []
   },
   "source": [
    "# Q2. Why *args and **kwargs is used in some functions? Create a function each for *args and **kwargs to demonstrate their use."
   ]
  },
  {
   "cell_type": "markdown",
   "id": "0aa9a521-01e9-4a21-a526-1d3c66bf4a4b",
   "metadata": {},
   "source": [
    "A2. *args and **kwargs are used in Python functions to allow the function to accept an arbitrary number of positional and keyword arguments respectively.\n",
    "\n",
    "The *args syntax allows you to pass a variable number of arguments to a function. The * before args allows you to pass any number of positional arguments to the function, which are then collected into a tuple. Here is an example function that demonstrates the use of *args:"
   ]
  },
  {
   "cell_type": "code",
   "execution_count": 8,
   "id": "d5eb6524-1a09-4de0-894f-21b7459abdba",
   "metadata": {},
   "outputs": [],
   "source": [
    "def my_sum(*args):\n",
    "    result = 0\n",
    "    for num in args:\n",
    "        result += num\n",
    "    return result"
   ]
  },
  {
   "cell_type": "markdown",
   "id": "d9f2aec5-5016-4f0e-9153-15ef45f89fb9",
   "metadata": {},
   "source": [
    "This function takes any number of arguments and returns their sum. You can call this function with any number of arguments, like this:"
   ]
  },
  {
   "cell_type": "code",
   "execution_count": 16,
   "id": "44e4a3e0-c24d-411a-92c6-4ee0376f3370",
   "metadata": {},
   "outputs": [
    {
     "data": {
      "text/plain": [
       "15"
      ]
     },
     "execution_count": 16,
     "metadata": {},
     "output_type": "execute_result"
    }
   ],
   "source": [
    "my_sum(1, 2, 3, 4, 5)"
   ]
  },
  {
   "cell_type": "markdown",
   "id": "db75e4b6-8bcb-47a7-904d-cc86cc80d712",
   "metadata": {},
   "source": [
    "The **kwargs syntax allows you to pass a variable number of keyword arguments to a function. The ** before kwargs allows you to pass any number of keyword arguments to the function, which are then collected into a dictionary. Here is an example function that demonstrates the use of **kwargs:"
   ]
  },
  {
   "cell_type": "code",
   "execution_count": 11,
   "id": "8d1bf96c-e15e-494e-9fe9-654d5a00f7ac",
   "metadata": {},
   "outputs": [],
   "source": [
    "def print_values(**kwargs):\n",
    "    for key, value in kwargs.items():\n",
    "        print(f\"{key}: {value}\")"
   ]
  },
  {
   "cell_type": "markdown",
   "id": "23c2d08d-5952-4310-a393-c51e432f7b2d",
   "metadata": {},
   "source": [
    "This function takes any number of keyword arguments and prints out their key-value pairs. You can call this function with any number of keyword arguments, like this:"
   ]
  },
  {
   "cell_type": "code",
   "execution_count": 17,
   "id": "d1f3deb6-9e97-4592-8232-b1972a36eb0e",
   "metadata": {},
   "outputs": [
    {
     "name": "stdout",
     "output_type": "stream",
     "text": [
      "name: Alice\n",
      "age: 25\n",
      "city: New York\n"
     ]
    }
   ],
   "source": [
    "print_values(name=\"Alice\", age=25, city=\"New York\")"
   ]
  },
  {
   "cell_type": "markdown",
   "id": "15b147aa-c3ed-4248-bb4b-f61db060f32f",
   "metadata": {},
   "source": [
    "We can also combine *args and **kwargs in the same function to accept both positional and keyword arguments."
   ]
  },
  {
   "cell_type": "markdown",
   "id": "826ddb9a-9064-420c-ad59-1d570b44af76",
   "metadata": {},
   "source": [
    "# Q3. What is an iterator in python? Name the method used to initialise the iterator object and the method used for iteration. Use these methods to print the first five elements of the given list [2, 4, 6, 8, 10, 12, 14, 16,18, 20]."
   ]
  },
  {
   "cell_type": "markdown",
   "id": "427ff93f-a646-435e-9c32-27977068d4e0",
   "metadata": {},
   "source": [
    "A3. In Python, an iterator is an object that implements the iterator protocol, which consists of the __iter__() and __next__() methods. An iterator allows you to traverse a container, like a list or a tuple, and access its elements one by one without needing to know the underlying implementation details.\n",
    "\n",
    "To initialize an iterator object, you can call the iter() function on a container object, which returns an iterator object. The next() method is used to iterate through the elements of the container.\n",
    "\n",
    "Here's an example code that uses the iter() and next() methods to print the first five elements of the given list [2, 4, 6, 8, 10, 12, 14, 16, 18, 20]:"
   ]
  },
  {
   "cell_type": "code",
   "execution_count": 18,
   "id": "f9075a46-6447-46ca-a3fb-f42d23313356",
   "metadata": {},
   "outputs": [
    {
     "name": "stdout",
     "output_type": "stream",
     "text": [
      "2\n",
      "4\n",
      "6\n",
      "8\n",
      "10\n"
     ]
    }
   ],
   "source": [
    "my_list = [2, 4, 6, 8, 10, 12, 14, 16, 18, 20]\n",
    "\n",
    "# Initialize the iterator object\n",
    "my_iterator = iter(my_list)\n",
    "\n",
    "# Use the next() method to iterate through the elements of the container\n",
    "for i in range(5):\n",
    "    # Get the next element from the iterator\n",
    "    element = next(my_iterator)\n",
    "    # Print the element\n",
    "    print(element)\n"
   ]
  },
  {
   "cell_type": "markdown",
   "id": "0eeee7cc-0ba1-4b2f-9585-44fe0dff4bab",
   "metadata": {},
   "source": [
    "In this example, we initialize an iterator object my_iterator by calling the iter() method on the list my_list. Then, we use a for loop to iterate through the first five elements of the list using the next() method and print each element. Note that after the fifth iteration, we have reached the end of the list, and any further call to next() method will raise a StopIteration exception."
   ]
  },
  {
   "cell_type": "markdown",
   "id": "0b4f468d-3490-45ac-8ba6-836ec9ac7325",
   "metadata": {},
   "source": [
    "# Q4. What is a generator function in python? Why yield keyword is used? Give an example of a generator function."
   ]
  },
  {
   "cell_type": "markdown",
   "id": "f3e60d1e-e2e0-4d40-9e6f-03ad2a1cf3fd",
   "metadata": {},
   "source": [
    "A4. A generator function in Python is a special type of function that uses the yield keyword to return an iterator object that can be used to traverse a sequence of values. When a generator function is called, it does not execute the function immediately, but instead returns an iterator object that can be used to step through the sequence of values generated by the function. The function is only executed when the iterator object is used.\n",
    "\n",
    "The yield keyword is used in a generator function to define a sequence of values to be generated. When the yield keyword is encountered in a generator function, the function will \"yield\" the value specified after the yield keyword and pause its execution. The next time the iterator object is used, the function will continue its execution from where it left off and generate the next value in the sequence.\n",
    "\n",
    "Here's an example of a simple generator function that generates the sequence of even numbers from 0 to a specified limit:"
   ]
  },
  {
   "cell_type": "code",
   "execution_count": 19,
   "id": "cd50938f-cc30-4df1-b25f-7ca0e066ba5b",
   "metadata": {},
   "outputs": [],
   "source": [
    "def even_numbers(limit):\n",
    "    for i in range(limit):\n",
    "        if i % 2 == 0:\n",
    "            yield i\n"
   ]
  },
  {
   "cell_type": "markdown",
   "id": "f18ab0cf-0cc2-48af-aa6f-758093c739cd",
   "metadata": {},
   "source": [
    "This generator function uses a for loop to generate the sequence of values, and the yield keyword to yield each value in the sequence. The function will pause its execution after each yield statement until the next value in the sequence is requested.\n",
    "\n",
    "We can use this generator function to generate a sequence of even numbers by calling it and iterating over the returned iterator object, like this:"
   ]
  },
  {
   "cell_type": "code",
   "execution_count": 20,
   "id": "b3235b93-d6f3-409c-9063-83e73983ccb5",
   "metadata": {},
   "outputs": [
    {
     "name": "stdout",
     "output_type": "stream",
     "text": [
      "0\n",
      "2\n",
      "4\n",
      "6\n",
      "8\n"
     ]
    }
   ],
   "source": [
    "# Generate the sequence of even numbers up to 10\n",
    "even_numbers_iterator = even_numbers(10)\n",
    "\n",
    "# Iterate over the iterator object to print the even numbers\n",
    "for number in even_numbers_iterator:\n",
    "    print(number)\n"
   ]
  },
  {
   "cell_type": "markdown",
   "id": "f048620b-f4aa-4aee-bd5d-cbe16b28e6d1",
   "metadata": {},
   "source": [
    "# Q5. Create a generator function for prime numbers less than 1000. Use the next() method to print the first 20 prime numbers."
   ]
  },
  {
   "cell_type": "markdown",
   "id": "e7581231-cf67-4a2a-8bc6-a2e0673b6bf4",
   "metadata": {},
   "source": [
    "A5. Here's an example of a generator function that generates prime numbers less than 1000:"
   ]
  },
  {
   "cell_type": "code",
   "execution_count": 3,
   "id": "5ee0c788-6d06-4171-a51c-40b515c78970",
   "metadata": {
    "tags": []
   },
   "outputs": [],
   "source": [
    "def prime_numbers():\n",
    "    # Initialize the list of primes with the first prime number (2)\n",
    "    primes = [2]\n",
    "    # Start checking for prime numbers from 3\n",
    "    num = 3\n",
    "    while num < 1000:\n",
    "        # Check if the number is prime\n",
    "        is_prime = True\n",
    "        for prime in primes:\n",
    "            if num % prime == 0:\n",
    "                is_prime = False\n",
    "                break\n",
    "        # If the number is prime, add it to the list of primes\n",
    "        if is_prime:\n",
    "            primes.append(num)\n",
    "            # Yield the prime number\n",
    "            yield num\n",
    "        # Increment the number by 2 to check the next odd number because even numbers greater than 2 are not prime\n",
    "        num += 2\n"
   ]
  },
  {
   "cell_type": "markdown",
   "id": "db737e7c-1099-4df4-8d6b-8a623d02e3e0",
   "metadata": {},
   "source": [
    "To print the first 20 prime numbers generated by this function, we can use the next() method 20 times in a loop, like this:"
   ]
  },
  {
   "cell_type": "code",
   "execution_count": 2,
   "id": "39a49f7a-cd82-45ca-9e97-bec9616a0d78",
   "metadata": {},
   "outputs": [
    {
     "name": "stdout",
     "output_type": "stream",
     "text": [
      "3\n",
      "5\n",
      "7\n",
      "11\n",
      "13\n",
      "17\n",
      "19\n",
      "23\n",
      "29\n",
      "31\n",
      "37\n",
      "41\n",
      "43\n",
      "47\n",
      "53\n",
      "59\n",
      "61\n",
      "67\n",
      "71\n",
      "73\n"
     ]
    }
   ],
   "source": [
    "# Create an iterator object for prime numbers\n",
    "prime_iterator = prime_numbers()\n",
    "\n",
    "# Print the first 20 prime numbers\n",
    "for i in range(20):\n",
    "    # Get the next prime number from the iterator\n",
    "    prime = next(prime_iterator)\n",
    "    # Print the prime number\n",
    "    print(prime)\n"
   ]
  }
 ],
 "metadata": {
  "kernelspec": {
   "display_name": "Python 3 (ipykernel)",
   "language": "python",
   "name": "python3"
  },
  "language_info": {
   "codemirror_mode": {
    "name": "ipython",
    "version": 3
   },
   "file_extension": ".py",
   "mimetype": "text/x-python",
   "name": "python",
   "nbconvert_exporter": "python",
   "pygments_lexer": "ipython3",
   "version": "3.10.8"
  }
 },
 "nbformat": 4,
 "nbformat_minor": 5
}
